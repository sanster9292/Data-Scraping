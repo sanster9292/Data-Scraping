{
 "cells": [
  {
   "cell_type": "markdown",
   "metadata": {},
   "source": [
    "## The purpose of this exercise is to get more acquainted with data scraping as a way of augmenting my skills as a data scientist when you need to automate data collection.\n",
    "\n",
    "## For this task, I am using a website of quotes which was made for the purpose of data scraping. So far, this website has 10 pages. I will loop over them, scrape them and store the quotes and authors in a Pandas dataframe"
   ]
  },
  {
   "cell_type": "markdown",
   "metadata": {},
   "source": [
    "**Let's start by importing the libraries**\n",
    "\n",
    "**BeautifulSoup**: Python library for pulling data out of html and xml files. \n",
    "\n",
    "**requests**: for making http requests such as opening a webpage.\n",
    "\n",
    "**pandas**: duh!!\n"
   ]
  },
  {
   "cell_type": "code",
   "execution_count": 105,
   "metadata": {
    "collapsed": true
   },
   "outputs": [],
   "source": [
    "from bs4 import BeautifulSoup as bs\n",
    "import requests\n",
    "import pandas as pd\n"
   ]
  },
  {
   "cell_type": "markdown",
   "metadata": {},
   "source": [
    "## The landing page of the website I will be scraping"
   ]
  },
  {
   "cell_type": "code",
   "execution_count": 98,
   "metadata": {
    "collapsed": true
   },
   "outputs": [],
   "source": [
    "start_url = 'http://quotes.toscrape.com'"
   ]
  },
  {
   "cell_type": "markdown",
   "metadata": {},
   "source": [
    "** In the get_web_soup function. I will use *requests* to get a reponse from the landing page and import the response into beautiful soup using the optional aurgument *html.parse* to parse the html file **"
   ]
  },
  {
   "cell_type": "code",
   "execution_count": 106,
   "metadata": {
    "collapsed": true
   },
   "outputs": [],
   "source": [
    "def get_web_soup(url):\n",
    "    \n",
    "    req_url = requests.get(url)\n",
    "    web_soup = bs(req_url.content, 'html.parser')\n",
    "    \n",
    "    return web_soup\n",
    "\n",
    "# web_soup = get_web_soup(start_url)\n",
    "# web_soup"
   ]
  },
  {
   "cell_type": "markdown",
   "metadata": {},
   "source": [
    "** * After we have loaded the web page, we will use *scrape_the_page* function to parse that page.I will then isolate all the *div* tags where the class title is *quote* **\n",
    "\n",
    "** * After this, I will append the author's name and quote to an empty list and return that list **"
   ]
  },
  {
   "cell_type": "code",
   "execution_count": 107,
   "metadata": {
    "collapsed": true
   },
   "outputs": [],
   "source": [
    "def scrape_the_page(web_soup):\n",
    "    divs = web_soup.findAll('div', attrs = {\"class\": \"quote\"})    \n",
    "    authors_list = []\n",
    "    \n",
    "    for div in divs:\n",
    "        text = div.find('span', attrs = {\"class\":\"text\"}).text.strip()\n",
    "        author = div.find('small', attrs ={'class':'author'}).text.strip()\n",
    "    \n",
    "        text_author = (author, text)\n",
    "        authors_list.append(text_author)\n",
    "#       \n",
    "    return authors_list\n",
    "        "
   ]
  },
  {
   "cell_type": "markdown",
   "metadata": {},
   "source": [
    "** *You could use *get_next_page* to navigate the pages or new_page_num to just loop over all the pages. **\n",
    "\n",
    "** *You will use the first method in conjunction with a *while* loop if you don't know the number of pages beforehand. You could use the second method if you know pages ahead of time and just loop through them **"
   ]
  },
  {
   "cell_type": "code",
   "execution_count": 108,
   "metadata": {
    "collapsed": true
   },
   "outputs": [],
   "source": [
    "# def get_next_page(web_soup,start_url):\n",
    "#     next_page = web_soup.find('li', attrs={\"class\": \"next\"})\n",
    "#     if next_page:\n",
    "#         page_num = next_page.select('a')\n",
    "#         page_num = page_num[0]['href']\n",
    "#         new_url = start_url+ page_num\n",
    "#         return new_url \n",
    "#     return None"
   ]
  },
  {
   "cell_type": "code",
   "execution_count": 109,
   "metadata": {
    "collapsed": true
   },
   "outputs": [],
   "source": [
    "# def new_page_num(start_url):\n",
    "    \n",
    "#     new_url = start_url+'/page/'\n",
    "    \n",
    "#     return new_url\n",
    "   \n",
    "   "
   ]
  },
  {
   "cell_type": "markdown",
   "metadata": {},
   "source": [
    "**Let's bring it all together. **\n",
    "\n",
    "1. Open the landing page.\n",
    "2. Scrape the page.\n",
    "3. Add the scraped data to a list.\n",
    "4. Go the next page. \n",
    "5. Repeat steps 2-4."
   ]
  },
  {
   "cell_type": "code",
   "execution_count": 123,
   "metadata": {
    "collapsed": true
   },
   "outputs": [],
   "source": [
    "def main():\n",
    "    start_url = 'http://quotes.toscrape.com'\n",
    "    author_quotes = []\n",
    "    \n",
    "    start_soup = get_web_soup(start_url)\n",
    "    page_1 = scrape_the_page(start_soup)\n",
    "    author_quotes += page_1\n",
    "    \n",
    "    for page in range(2,11):\n",
    "        page_stump = start_url+'/page/'\n",
    "        new_url = page_stump+str(page)\n",
    "        \n",
    "        new_soup = get_web_soup(new_url)\n",
    "        page_n = scrape_the_page(new_soup)\n",
    "        author_quotes += page_n\n",
    "    \n",
    "    return author_quotes"
   ]
  },
  {
   "cell_type": "code",
   "execution_count": 124,
   "metadata": {
    "collapsed": true
   },
   "outputs": [],
   "source": [
    "quotes = main()"
   ]
  },
  {
   "cell_type": "code",
   "execution_count": 125,
   "metadata": {},
   "outputs": [
    {
     "data": {
      "text/plain": [
       "(100, 2)"
      ]
     },
     "execution_count": 125,
     "metadata": {},
     "output_type": "execute_result"
    }
   ],
   "source": [
    "auth= np.array(quotes)\n",
    "auth.shape"
   ]
  },
  {
   "cell_type": "markdown",
   "metadata": {},
   "source": [
    "** Convert the list of authors and quotes into a Pandas DataFrame for easy further use. **"
   ]
  },
  {
   "cell_type": "code",
   "execution_count": 128,
   "metadata": {},
   "outputs": [
    {
     "data": {
      "text/html": [
       "<div>\n",
       "<style>\n",
       "    .dataframe thead tr:only-child th {\n",
       "        text-align: right;\n",
       "    }\n",
       "\n",
       "    .dataframe thead th {\n",
       "        text-align: left;\n",
       "    }\n",
       "\n",
       "    .dataframe tbody tr th {\n",
       "        vertical-align: top;\n",
       "    }\n",
       "</style>\n",
       "<table border=\"1\" class=\"dataframe\">\n",
       "  <thead>\n",
       "    <tr style=\"text-align: right;\">\n",
       "      <th></th>\n",
       "      <th>Author</th>\n",
       "      <th>Quote</th>\n",
       "    </tr>\n",
       "  </thead>\n",
       "  <tbody>\n",
       "    <tr>\n",
       "      <th>13</th>\n",
       "      <td>Bob Marley</td>\n",
       "      <td>“You may not be her first, her last, or her on...</td>\n",
       "    </tr>\n",
       "    <tr>\n",
       "      <th>46</th>\n",
       "      <td>Marilyn Monroe</td>\n",
       "      <td>“A wise girl kisses but doesn't love, listens ...</td>\n",
       "    </tr>\n",
       "    <tr>\n",
       "      <th>47</th>\n",
       "      <td>Martin Luther King Jr.</td>\n",
       "      <td>“Only in the darkness can you see the stars.”</td>\n",
       "    </tr>\n",
       "    <tr>\n",
       "      <th>10</th>\n",
       "      <td>Marilyn Monroe</td>\n",
       "      <td>“This life is what you make it. No matter what...</td>\n",
       "    </tr>\n",
       "    <tr>\n",
       "      <th>12</th>\n",
       "      <td>Albert Einstein</td>\n",
       "      <td>“If you can't explain it to a six year old, yo...</td>\n",
       "    </tr>\n",
       "    <tr>\n",
       "      <th>76</th>\n",
       "      <td>John Lennon</td>\n",
       "      <td>“You may say I'm a dreamer, but I'm not the on...</td>\n",
       "    </tr>\n",
       "    <tr>\n",
       "      <th>23</th>\n",
       "      <td>Garrison Keillor</td>\n",
       "      <td>“Anyone who thinks sitting in church can make ...</td>\n",
       "    </tr>\n",
       "    <tr>\n",
       "      <th>0</th>\n",
       "      <td>Albert Einstein</td>\n",
       "      <td>“The world as we have created it is a process ...</td>\n",
       "    </tr>\n",
       "    <tr>\n",
       "      <th>79</th>\n",
       "      <td>Mark Twain</td>\n",
       "      <td>“′Classic′ - a book which people praise and do...</td>\n",
       "    </tr>\n",
       "    <tr>\n",
       "      <th>61</th>\n",
       "      <td>Suzanne Collins</td>\n",
       "      <td>“You don’t forget the face of the person who w...</td>\n",
       "    </tr>\n",
       "  </tbody>\n",
       "</table>\n",
       "</div>"
      ],
      "text/plain": [
       "                    Author                                              Quote\n",
       "13              Bob Marley  “You may not be her first, her last, or her on...\n",
       "46          Marilyn Monroe  “A wise girl kisses but doesn't love, listens ...\n",
       "47  Martin Luther King Jr.      “Only in the darkness can you see the stars.”\n",
       "10          Marilyn Monroe  “This life is what you make it. No matter what...\n",
       "12         Albert Einstein  “If you can't explain it to a six year old, yo...\n",
       "76             John Lennon  “You may say I'm a dreamer, but I'm not the on...\n",
       "23        Garrison Keillor  “Anyone who thinks sitting in church can make ...\n",
       "0          Albert Einstein  “The world as we have created it is a process ...\n",
       "79              Mark Twain  “′Classic′ - a book which people praise and do...\n",
       "61         Suzanne Collins  “You don’t forget the face of the person who w..."
      ]
     },
     "execution_count": 128,
     "metadata": {},
     "output_type": "execute_result"
    }
   ],
   "source": [
    "df_authors = pd.DataFrame(quotes, columns = ['Author', 'Quote'])\n",
    "df_authors.sample(10)"
   ]
  },
  {
   "cell_type": "code",
   "execution_count": null,
   "metadata": {},
   "outputs": [],
   "source": [
    "\n"
   ]
  }
 ],
 "metadata": {
  "kernelspec": {
   "display_name": "Python 3",
   "language": "python",
   "name": "python3"
  },
  "language_info": {
   "codemirror_mode": {
    "name": "ipython",
    "version": 3
   },
   "file_extension": ".py",
   "mimetype": "text/x-python",
   "name": "python",
   "nbconvert_exporter": "python",
   "pygments_lexer": "ipython3",
   "version": "3.6.3"
  }
 },
 "nbformat": 4,
 "nbformat_minor": 2
}
